{
  "nbformat": 4,
  "nbformat_minor": 0,
  "metadata": {
    "colab": {
      "provenance": [],
      "toc_visible": true,
      "authorship_tag": "ABX9TyPEKALpNI6f85nLKKG0OnYP",
      "include_colab_link": true
    },
    "kernelspec": {
      "name": "python3",
      "display_name": "Python 3"
    },
    "language_info": {
      "name": "python"
    }
  },
  "cells": [
    {
      "cell_type": "markdown",
      "metadata": {
        "id": "view-in-github",
        "colab_type": "text"
      },
      "source": [
        "<a href=\"https://colab.research.google.com/github/namdohyun2/tutorial/blob/main/%EB%A7%88%EB%A6%84%EB%AA%A8..%3F.ipynb\" target=\"_parent\"><img src=\"https://colab.research.google.com/assets/colab-badge.svg\" alt=\"Open In Colab\"/></a>"
      ]
    },
    {
      "cell_type": "code",
      "execution_count": 122,
      "metadata": {
        "colab": {
          "base_uri": "https://localhost:8080/"
        },
        "id": "3YxW2SFxl_xU",
        "outputId": "c0a60045-c3c7-413b-e190-594fa1406fc5"
      },
      "outputs": [
        {
          "output_type": "stream",
          "name": "stdout",
          "text": [
            "@@@@@@@@@#@@@@@@@@@\n",
            "@@@@@@@@###@@@@@@@@\n",
            "@@@@@@@#####@@@@@@@\n",
            "@@@@@@#######@@@@@@\n",
            "@@@@@#########@@@@@\n",
            "@@@@###########@@@@\n",
            "@@@#############@@@\n",
            "@@###############@@\n",
            "@#################@\n",
            "!!!!!!!!!!!!!!!!!!!\n",
            "@!!!!!!!!!!!!!!!!!@\n",
            "@@!!!!!!!!!!!!!!!@@\n",
            "@@@!!!!!!!!!!!!!@@@\n",
            "@@@@!!!!!!!!!!!@@@@\n",
            "@@@@@!!!!!!!!!@@@@@\n",
            "@@@@@@!!!!!!!@@@@@@\n",
            "@@@@@@@!!!!!@@@@@@@\n",
            "@@@@@@@@!!!@@@@@@@@\n",
            "@@@@@@@@@!@@@@@@@@@\n"
          ]
        }
      ],
      "source": [
        "for i in range(1, 10):\n",
        "  for j in range(10-i):\n",
        "    print(\"@\", end=\"\")\n",
        "  for k in range(2*i-1):\n",
        "     print(\"#\", end=\"\")\n",
        "  for n in range(10-i):\n",
        "    print(\"@\", end = \"\")\n",
        "  print()\n",
        "\n",
        "for i in range(10, 0, -1):\n",
        "  for j in range(10-i):\n",
        "    print(\"@\", end=\"\")\n",
        "  for k in range(2*i-1):\n",
        "    print(\"!\", end=\"\")\n",
        "  for n in range(10-i):\n",
        "    print(\"@\", end = \"\")\n",
        "  print()"
      ]
    },
    {
      "cell_type": "code",
      "source": [
        "for i in range(1, 10):\n",
        "  for j in range(10-i):\n",
        "    print(\"!\", end=\"\")\n",
        "  for k in range(2*i-1):\n",
        "     print(\"\", end=\" \")\n",
        "  for n in range(10-i):\n",
        "    print(\"!\", end = \"\")\n",
        "  print()\n",
        "\n",
        "for i in range(10, 0, -1):\n",
        "  for j in range(10-i):\n",
        "    print(\"!\", end=\"\")\n",
        "  for k in range(2*i-1):\n",
        "    print(\"\", end=\" \")\n",
        "  for n in range(10-i):\n",
        "    print(\"!\", end = \"\")\n",
        "  print()"
      ],
      "metadata": {
        "colab": {
          "base_uri": "https://localhost:8080/"
        },
        "id": "bsZ2Lh9xzxix",
        "outputId": "6332e5ce-7bb7-4619-b4c0-b4b4055e6f4f"
      },
      "execution_count": 130,
      "outputs": [
        {
          "output_type": "stream",
          "name": "stdout",
          "text": [
            "!!!!!!!!! !!!!!!!!!\n",
            "!!!!!!!!   !!!!!!!!\n",
            "!!!!!!!     !!!!!!!\n",
            "!!!!!!       !!!!!!\n",
            "!!!!!         !!!!!\n",
            "!!!!           !!!!\n",
            "!!!             !!!\n",
            "!!               !!\n",
            "!                 !\n",
            "                   \n",
            "!                 !\n",
            "!!               !!\n",
            "!!!             !!!\n",
            "!!!!           !!!!\n",
            "!!!!!         !!!!!\n",
            "!!!!!!       !!!!!!\n",
            "!!!!!!!     !!!!!!!\n",
            "!!!!!!!!   !!!!!!!!\n",
            "!!!!!!!!! !!!!!!!!!\n"
          ]
        }
      ]
    },
    {
      "cell_type": "code",
      "source": [
        "for i in range(10, 0, -1):\n",
        "  for j in range(10-i):\n",
        "    print(\"!\", end=\"\")\n",
        "  for k in range(2*i-1):\n",
        "    print(\"\", end=\" \")\n",
        "  for n in range(10-i):\n",
        "    print(\"!\", end = \"\")\n",
        "  print()"
      ],
      "metadata": {
        "colab": {
          "base_uri": "https://localhost:8080/"
        },
        "id": "lAs5jIuZ0E-z",
        "outputId": "a8ff7369-2733-4435-9152-d07f19fc3378"
      },
      "execution_count": 131,
      "outputs": [
        {
          "output_type": "stream",
          "name": "stdout",
          "text": [
            "                   \n",
            "!                 !\n",
            "!!               !!\n",
            "!!!             !!!\n",
            "!!!!           !!!!\n",
            "!!!!!         !!!!!\n",
            "!!!!!!       !!!!!!\n",
            "!!!!!!!     !!!!!!!\n",
            "!!!!!!!!   !!!!!!!!\n",
            "!!!!!!!!! !!!!!!!!!\n"
          ]
        }
      ]
    },
    {
      "cell_type": "markdown",
      "source": [
        "# 새 섹션"
      ],
      "metadata": {
        "id": "b8SEKoTI64Jm"
      }
    }
  ]
}
